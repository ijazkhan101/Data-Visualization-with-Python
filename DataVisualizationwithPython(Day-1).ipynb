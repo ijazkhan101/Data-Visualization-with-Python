{
 "cells": [
  {
   "cell_type": "code",
   "execution_count": 27,
   "metadata": {},
   "outputs": [
    {
     "data": {
      "text/html": [
       "<div>\n",
       "<style scoped>\n",
       "    .dataframe tbody tr th:only-of-type {\n",
       "        vertical-align: middle;\n",
       "    }\n",
       "\n",
       "    .dataframe tbody tr th {\n",
       "        vertical-align: top;\n",
       "    }\n",
       "\n",
       "    .dataframe thead th {\n",
       "        text-align: right;\n",
       "    }\n",
       "</style>\n",
       "<table border=\"1\" class=\"dataframe\">\n",
       "  <thead>\n",
       "    <tr style=\"text-align: right;\">\n",
       "      <th></th>\n",
       "      <th>timestamp</th>\n",
       "      <th>age</th>\n",
       "      <th>city</th>\n",
       "      <th>weight</th>\n",
       "      <th>height</th>\n",
       "      <th>BMI</th>\n",
       "      <th>salary</th>\n",
       "      <th>gender</th>\n",
       "      <th>qualification</th>\n",
       "      <th>employment_status</th>\n",
       "      <th>covid_vaccine</th>\n",
       "      <th>marital_status</th>\n",
       "      <th>github_copilot_user</th>\n",
       "      <th>favourite_dish</th>\n",
       "    </tr>\n",
       "  </thead>\n",
       "  <tbody>\n",
       "    <tr>\n",
       "      <th>0</th>\n",
       "      <td>2022-12-11 12:48:13</td>\n",
       "      <td>31.0</td>\n",
       "      <td>Karachi</td>\n",
       "      <td>73.0</td>\n",
       "      <td>165.000</td>\n",
       "      <td>26.800</td>\n",
       "      <td>10000.0</td>\n",
       "      <td>Male</td>\n",
       "      <td>Bachelors</td>\n",
       "      <td>Self Emplyed</td>\n",
       "      <td>Yes</td>\n",
       "      <td>Married</td>\n",
       "      <td>Yes</td>\n",
       "      <td>Biryani</td>\n",
       "    </tr>\n",
       "    <tr>\n",
       "      <th>1</th>\n",
       "      <td>2022-12-11 12:48:15</td>\n",
       "      <td>21.0</td>\n",
       "      <td>Turkey</td>\n",
       "      <td>70.0</td>\n",
       "      <td>170.000</td>\n",
       "      <td>24.900</td>\n",
       "      <td>3000.0</td>\n",
       "      <td>Male</td>\n",
       "      <td>Intermediate</td>\n",
       "      <td>Unemployed</td>\n",
       "      <td>Yes</td>\n",
       "      <td>Other</td>\n",
       "      <td>Yes</td>\n",
       "      <td>Biryani</td>\n",
       "    </tr>\n",
       "    <tr>\n",
       "      <th>2</th>\n",
       "      <td>2022-12-11 12:48:16</td>\n",
       "      <td>41.0</td>\n",
       "      <td>Faisalabad</td>\n",
       "      <td>72.5</td>\n",
       "      <td>156.000</td>\n",
       "      <td>31.200</td>\n",
       "      <td>35000.0</td>\n",
       "      <td>Male</td>\n",
       "      <td>Bachelors</td>\n",
       "      <td>Employed</td>\n",
       "      <td>Yes</td>\n",
       "      <td>Single</td>\n",
       "      <td>Yes</td>\n",
       "      <td>Daal</td>\n",
       "    </tr>\n",
       "    <tr>\n",
       "      <th>3</th>\n",
       "      <td>2022-12-11 12:48:24</td>\n",
       "      <td>22.0</td>\n",
       "      <td>Rawalpindi</td>\n",
       "      <td>75.0</td>\n",
       "      <td>155.000</td>\n",
       "      <td>32.000</td>\n",
       "      <td>50000.0</td>\n",
       "      <td>Male</td>\n",
       "      <td>Bachelors</td>\n",
       "      <td>Self Emplyed</td>\n",
       "      <td>Yes</td>\n",
       "      <td>Single</td>\n",
       "      <td>Yes</td>\n",
       "      <td>Karahi Ghosht</td>\n",
       "    </tr>\n",
       "    <tr>\n",
       "      <th>4</th>\n",
       "      <td>2022-12-11 12:48:25</td>\n",
       "      <td>26.0</td>\n",
       "      <td>Harbin</td>\n",
       "      <td>75.0</td>\n",
       "      <td>179.000</td>\n",
       "      <td>23.400</td>\n",
       "      <td>35000.0</td>\n",
       "      <td>Male</td>\n",
       "      <td>Masters</td>\n",
       "      <td>Unemployed</td>\n",
       "      <td>Yes</td>\n",
       "      <td>Single</td>\n",
       "      <td>No</td>\n",
       "      <td>Daal</td>\n",
       "    </tr>\n",
       "    <tr>\n",
       "      <th>...</th>\n",
       "      <td>...</td>\n",
       "      <td>...</td>\n",
       "      <td>...</td>\n",
       "      <td>...</td>\n",
       "      <td>...</td>\n",
       "      <td>...</td>\n",
       "      <td>...</td>\n",
       "      <td>...</td>\n",
       "      <td>...</td>\n",
       "      <td>...</td>\n",
       "      <td>...</td>\n",
       "      <td>...</td>\n",
       "      <td>...</td>\n",
       "      <td>...</td>\n",
       "    </tr>\n",
       "    <tr>\n",
       "      <th>85</th>\n",
       "      <td>2022-12-11 13:01:14</td>\n",
       "      <td>22.0</td>\n",
       "      <td>Mansehra</td>\n",
       "      <td>70.0</td>\n",
       "      <td>173.000</td>\n",
       "      <td>23.400</td>\n",
       "      <td>5000.0</td>\n",
       "      <td>Male</td>\n",
       "      <td>Bachelors</td>\n",
       "      <td>Unemployed</td>\n",
       "      <td>Yes</td>\n",
       "      <td>Single</td>\n",
       "      <td>No</td>\n",
       "      <td>Karahi Ghosht</td>\n",
       "    </tr>\n",
       "    <tr>\n",
       "      <th>86</th>\n",
       "      <td>2022-12-11 13:01:54</td>\n",
       "      <td>36.0</td>\n",
       "      <td>Rawalpindi</td>\n",
       "      <td>86.0</td>\n",
       "      <td>165.000</td>\n",
       "      <td>14.300</td>\n",
       "      <td>105000.0</td>\n",
       "      <td>Male</td>\n",
       "      <td>Masters</td>\n",
       "      <td>Employed</td>\n",
       "      <td>Yes</td>\n",
       "      <td>Married</td>\n",
       "      <td>No</td>\n",
       "      <td>Daal</td>\n",
       "    </tr>\n",
       "    <tr>\n",
       "      <th>87</th>\n",
       "      <td>2022-12-11 13:03:22</td>\n",
       "      <td>20.0</td>\n",
       "      <td>Islamabad</td>\n",
       "      <td>54.6</td>\n",
       "      <td>162.800</td>\n",
       "      <td>20.600</td>\n",
       "      <td>35000.0</td>\n",
       "      <td>Female</td>\n",
       "      <td>Bachelors</td>\n",
       "      <td>Unemployed</td>\n",
       "      <td>No</td>\n",
       "      <td>Married</td>\n",
       "      <td>Yes</td>\n",
       "      <td>Karahi Ghosht</td>\n",
       "    </tr>\n",
       "    <tr>\n",
       "      <th>88</th>\n",
       "      <td>2022-12-11 13:04:28</td>\n",
       "      <td>32.0</td>\n",
       "      <td>Karachi</td>\n",
       "      <td>67.0</td>\n",
       "      <td>147.402</td>\n",
       "      <td>24.363</td>\n",
       "      <td>3000.0</td>\n",
       "      <td>Female</td>\n",
       "      <td>Bachelors</td>\n",
       "      <td>Unemployed</td>\n",
       "      <td>No</td>\n",
       "      <td>Married</td>\n",
       "      <td>No</td>\n",
       "      <td>Biryani</td>\n",
       "    </tr>\n",
       "    <tr>\n",
       "      <th>89</th>\n",
       "      <td>2022-12-11 13:05:05</td>\n",
       "      <td>55.0</td>\n",
       "      <td>Jhelum</td>\n",
       "      <td>85.0</td>\n",
       "      <td>160.000</td>\n",
       "      <td>33.200</td>\n",
       "      <td>100000.0</td>\n",
       "      <td>Female</td>\n",
       "      <td>Bachelors</td>\n",
       "      <td>Self Emplyed</td>\n",
       "      <td>Yes</td>\n",
       "      <td>Married</td>\n",
       "      <td>No</td>\n",
       "      <td>Saag</td>\n",
       "    </tr>\n",
       "  </tbody>\n",
       "</table>\n",
       "<p>90 rows × 14 columns</p>\n",
       "</div>"
      ],
      "text/plain": [
       "             timestamp   age        city  weight   height     BMI    salary  \\\n",
       "0  2022-12-11 12:48:13  31.0     Karachi    73.0  165.000  26.800   10000.0   \n",
       "1  2022-12-11 12:48:15  21.0      Turkey    70.0  170.000  24.900    3000.0   \n",
       "2  2022-12-11 12:48:16  41.0  Faisalabad    72.5  156.000  31.200   35000.0   \n",
       "3  2022-12-11 12:48:24  22.0  Rawalpindi    75.0  155.000  32.000   50000.0   \n",
       "4  2022-12-11 12:48:25  26.0      Harbin    75.0  179.000  23.400   35000.0   \n",
       "..                 ...   ...         ...     ...      ...     ...       ...   \n",
       "85 2022-12-11 13:01:14  22.0    Mansehra    70.0  173.000  23.400    5000.0   \n",
       "86 2022-12-11 13:01:54  36.0  Rawalpindi    86.0  165.000  14.300  105000.0   \n",
       "87 2022-12-11 13:03:22  20.0   Islamabad    54.6  162.800  20.600   35000.0   \n",
       "88 2022-12-11 13:04:28  32.0     Karachi    67.0  147.402  24.363    3000.0   \n",
       "89 2022-12-11 13:05:05  55.0      Jhelum    85.0  160.000  33.200  100000.0   \n",
       "\n",
       "    gender qualification employment_status covid_vaccine marital_status  \\\n",
       "0     Male     Bachelors      Self Emplyed           Yes        Married   \n",
       "1     Male  Intermediate        Unemployed           Yes          Other   \n",
       "2     Male     Bachelors          Employed           Yes         Single   \n",
       "3     Male     Bachelors      Self Emplyed           Yes         Single   \n",
       "4     Male       Masters        Unemployed           Yes         Single   \n",
       "..     ...           ...               ...           ...            ...   \n",
       "85    Male     Bachelors        Unemployed           Yes         Single   \n",
       "86    Male       Masters          Employed           Yes        Married   \n",
       "87  Female     Bachelors        Unemployed            No        Married   \n",
       "88  Female     Bachelors        Unemployed            No        Married   \n",
       "89  Female     Bachelors      Self Emplyed           Yes        Married   \n",
       "\n",
       "   github_copilot_user favourite_dish  \n",
       "0                  Yes        Biryani  \n",
       "1                  Yes        Biryani  \n",
       "2                  Yes           Daal  \n",
       "3                  Yes  Karahi Ghosht  \n",
       "4                   No           Daal  \n",
       "..                 ...            ...  \n",
       "85                  No  Karahi Ghosht  \n",
       "86                  No           Daal  \n",
       "87                 Yes  Karahi Ghosht  \n",
       "88                  No        Biryani  \n",
       "89                  No           Saag  \n",
       "\n",
       "[90 rows x 14 columns]"
      ]
     },
     "execution_count": 27,
     "metadata": {},
     "output_type": "execute_result"
    }
   ],
   "source": [
    "# import libraries\n",
    "\n",
    "import pandas as pd \n",
    "import seaborn as sns \n",
    "import numpy as np \n",
    "import matplotlib.pyplot as plt \n",
    "\n",
    "\n",
    "# data set load \n",
    "df= pd.read_excel('data_viz.csv')\n",
    "df\n",
    "\n",
    "\n",
    "# getting the data view"
   ]
  },
  {
   "cell_type": "code",
   "execution_count": 20,
   "metadata": {},
   "outputs": [
    {
     "data": {
      "text/plain": [
       "Index(['timestamp', 'age', 'city', 'weight', 'height', 'BMI', 'salary',\n",
       "       'gender', 'qualification', 'employment_status', 'covid_vaccine',\n",
       "       'marital_status', 'github_copilot_user', 'favourite_dish'],\n",
       "      dtype='object')"
      ]
     },
     "execution_count": 20,
     "metadata": {},
     "output_type": "execute_result"
    }
   ],
   "source": [
    "df.columns"
   ]
  },
  {
   "cell_type": "code",
   "execution_count": 21,
   "metadata": {},
   "outputs": [
    {
     "data": {
      "text/plain": [
       "(90, 14)"
      ]
     },
     "execution_count": 21,
     "metadata": {},
     "output_type": "execute_result"
    }
   ],
   "source": [
    "#get row and colums\n",
    "df.shape"
   ]
  },
  {
   "cell_type": "code",
   "execution_count": 22,
   "metadata": {},
   "outputs": [
    {
     "data": {
      "text/html": [
       "<div>\n",
       "<style scoped>\n",
       "    .dataframe tbody tr th:only-of-type {\n",
       "        vertical-align: middle;\n",
       "    }\n",
       "\n",
       "    .dataframe tbody tr th {\n",
       "        vertical-align: top;\n",
       "    }\n",
       "\n",
       "    .dataframe thead th {\n",
       "        text-align: right;\n",
       "    }\n",
       "</style>\n",
       "<table border=\"1\" class=\"dataframe\">\n",
       "  <thead>\n",
       "    <tr style=\"text-align: right;\">\n",
       "      <th></th>\n",
       "      <th>age</th>\n",
       "      <th>weight</th>\n",
       "      <th>height</th>\n",
       "      <th>BMI</th>\n",
       "      <th>salary</th>\n",
       "    </tr>\n",
       "  </thead>\n",
       "  <tbody>\n",
       "    <tr>\n",
       "      <th>count</th>\n",
       "      <td>90.000000</td>\n",
       "      <td>90.000000</td>\n",
       "      <td>90.000000</td>\n",
       "      <td>89.000000</td>\n",
       "      <td>90.000000</td>\n",
       "    </tr>\n",
       "    <tr>\n",
       "      <th>mean</th>\n",
       "      <td>29.200000</td>\n",
       "      <td>71.973678</td>\n",
       "      <td>150.781580</td>\n",
       "      <td>168.709023</td>\n",
       "      <td>49259.802444</td>\n",
       "    </tr>\n",
       "    <tr>\n",
       "      <th>std</th>\n",
       "      <td>7.235912</td>\n",
       "      <td>18.938757</td>\n",
       "      <td>51.485629</td>\n",
       "      <td>1275.112518</td>\n",
       "      <td>62944.903517</td>\n",
       "    </tr>\n",
       "    <tr>\n",
       "      <th>min</th>\n",
       "      <td>18.000000</td>\n",
       "      <td>30.000000</td>\n",
       "      <td>5.000000</td>\n",
       "      <td>0.800000</td>\n",
       "      <td>222.220000</td>\n",
       "    </tr>\n",
       "    <tr>\n",
       "      <th>25%</th>\n",
       "      <td>23.000000</td>\n",
       "      <td>60.000000</td>\n",
       "      <td>156.600000</td>\n",
       "      <td>20.600000</td>\n",
       "      <td>6250.000000</td>\n",
       "    </tr>\n",
       "    <tr>\n",
       "      <th>50%</th>\n",
       "      <td>29.000000</td>\n",
       "      <td>70.100000</td>\n",
       "      <td>167.640000</td>\n",
       "      <td>24.500000</td>\n",
       "      <td>26800.000000</td>\n",
       "    </tr>\n",
       "    <tr>\n",
       "      <th>75%</th>\n",
       "      <td>34.000000</td>\n",
       "      <td>80.000000</td>\n",
       "      <td>175.000000</td>\n",
       "      <td>27.700000</td>\n",
       "      <td>60000.000000</td>\n",
       "    </tr>\n",
       "    <tr>\n",
       "      <th>max</th>\n",
       "      <td>55.000000</td>\n",
       "      <td>163.000000</td>\n",
       "      <td>204.216000</td>\n",
       "      <td>12054.400000</td>\n",
       "      <td>300000.000000</td>\n",
       "    </tr>\n",
       "  </tbody>\n",
       "</table>\n",
       "</div>"
      ],
      "text/plain": [
       "             age      weight      height           BMI         salary\n",
       "count  90.000000   90.000000   90.000000     89.000000      90.000000\n",
       "mean   29.200000   71.973678  150.781580    168.709023   49259.802444\n",
       "std     7.235912   18.938757   51.485629   1275.112518   62944.903517\n",
       "min    18.000000   30.000000    5.000000      0.800000     222.220000\n",
       "25%    23.000000   60.000000  156.600000     20.600000    6250.000000\n",
       "50%    29.000000   70.100000  167.640000     24.500000   26800.000000\n",
       "75%    34.000000   80.000000  175.000000     27.700000   60000.000000\n",
       "max    55.000000  163.000000  204.216000  12054.400000  300000.000000"
      ]
     },
     "execution_count": 22,
     "metadata": {},
     "output_type": "execute_result"
    }
   ],
   "source": [
    "df.describe()   # to know stats of the data"
   ]
  },
  {
   "cell_type": "code",
   "execution_count": 23,
   "metadata": {},
   "outputs": [
    {
     "data": {
      "text/html": [
       "<div>\n",
       "<style scoped>\n",
       "    .dataframe tbody tr th:only-of-type {\n",
       "        vertical-align: middle;\n",
       "    }\n",
       "\n",
       "    .dataframe tbody tr th {\n",
       "        vertical-align: top;\n",
       "    }\n",
       "\n",
       "    .dataframe thead th {\n",
       "        text-align: right;\n",
       "    }\n",
       "</style>\n",
       "<table border=\"1\" class=\"dataframe\">\n",
       "  <thead>\n",
       "    <tr style=\"text-align: right;\">\n",
       "      <th></th>\n",
       "      <th>timestamp</th>\n",
       "      <th>age</th>\n",
       "      <th>city</th>\n",
       "      <th>weight</th>\n",
       "      <th>height</th>\n",
       "      <th>BMI</th>\n",
       "      <th>salary</th>\n",
       "      <th>gender</th>\n",
       "      <th>qualification</th>\n",
       "      <th>employment_status</th>\n",
       "      <th>covid_vaccine</th>\n",
       "      <th>marital_status</th>\n",
       "      <th>github_copilot_user</th>\n",
       "      <th>favourite_dish</th>\n",
       "    </tr>\n",
       "  </thead>\n",
       "  <tbody>\n",
       "    <tr>\n",
       "      <th>0</th>\n",
       "      <td>2022-12-11 12:48:13</td>\n",
       "      <td>31.0</td>\n",
       "      <td>Karachi</td>\n",
       "      <td>73.0</td>\n",
       "      <td>165.0</td>\n",
       "      <td>26.8</td>\n",
       "      <td>10000.0</td>\n",
       "      <td>Male</td>\n",
       "      <td>Bachelors</td>\n",
       "      <td>Self Emplyed</td>\n",
       "      <td>Yes</td>\n",
       "      <td>Married</td>\n",
       "      <td>Yes</td>\n",
       "      <td>Biryani</td>\n",
       "    </tr>\n",
       "    <tr>\n",
       "      <th>1</th>\n",
       "      <td>2022-12-11 12:48:15</td>\n",
       "      <td>21.0</td>\n",
       "      <td>Turkey</td>\n",
       "      <td>70.0</td>\n",
       "      <td>170.0</td>\n",
       "      <td>24.9</td>\n",
       "      <td>3000.0</td>\n",
       "      <td>Male</td>\n",
       "      <td>Intermediate</td>\n",
       "      <td>Unemployed</td>\n",
       "      <td>Yes</td>\n",
       "      <td>Other</td>\n",
       "      <td>Yes</td>\n",
       "      <td>Biryani</td>\n",
       "    </tr>\n",
       "    <tr>\n",
       "      <th>2</th>\n",
       "      <td>2022-12-11 12:48:16</td>\n",
       "      <td>41.0</td>\n",
       "      <td>Faisalabad</td>\n",
       "      <td>72.5</td>\n",
       "      <td>156.0</td>\n",
       "      <td>31.2</td>\n",
       "      <td>35000.0</td>\n",
       "      <td>Male</td>\n",
       "      <td>Bachelors</td>\n",
       "      <td>Employed</td>\n",
       "      <td>Yes</td>\n",
       "      <td>Single</td>\n",
       "      <td>Yes</td>\n",
       "      <td>Daal</td>\n",
       "    </tr>\n",
       "    <tr>\n",
       "      <th>3</th>\n",
       "      <td>2022-12-11 12:48:24</td>\n",
       "      <td>22.0</td>\n",
       "      <td>Rawalpindi</td>\n",
       "      <td>75.0</td>\n",
       "      <td>155.0</td>\n",
       "      <td>32.0</td>\n",
       "      <td>50000.0</td>\n",
       "      <td>Male</td>\n",
       "      <td>Bachelors</td>\n",
       "      <td>Self Emplyed</td>\n",
       "      <td>Yes</td>\n",
       "      <td>Single</td>\n",
       "      <td>Yes</td>\n",
       "      <td>Karahi Ghosht</td>\n",
       "    </tr>\n",
       "    <tr>\n",
       "      <th>4</th>\n",
       "      <td>2022-12-11 12:48:25</td>\n",
       "      <td>26.0</td>\n",
       "      <td>Harbin</td>\n",
       "      <td>75.0</td>\n",
       "      <td>179.0</td>\n",
       "      <td>23.4</td>\n",
       "      <td>35000.0</td>\n",
       "      <td>Male</td>\n",
       "      <td>Masters</td>\n",
       "      <td>Unemployed</td>\n",
       "      <td>Yes</td>\n",
       "      <td>Single</td>\n",
       "      <td>No</td>\n",
       "      <td>Daal</td>\n",
       "    </tr>\n",
       "  </tbody>\n",
       "</table>\n",
       "</div>"
      ],
      "text/plain": [
       "            timestamp   age        city  weight  height   BMI   salary gender  \\\n",
       "0 2022-12-11 12:48:13  31.0     Karachi    73.0   165.0  26.8  10000.0   Male   \n",
       "1 2022-12-11 12:48:15  21.0      Turkey    70.0   170.0  24.9   3000.0   Male   \n",
       "2 2022-12-11 12:48:16  41.0  Faisalabad    72.5   156.0  31.2  35000.0   Male   \n",
       "3 2022-12-11 12:48:24  22.0  Rawalpindi    75.0   155.0  32.0  50000.0   Male   \n",
       "4 2022-12-11 12:48:25  26.0      Harbin    75.0   179.0  23.4  35000.0   Male   \n",
       "\n",
       "  qualification employment_status covid_vaccine marital_status  \\\n",
       "0     Bachelors      Self Emplyed           Yes        Married   \n",
       "1  Intermediate        Unemployed           Yes          Other   \n",
       "2     Bachelors          Employed           Yes         Single   \n",
       "3     Bachelors      Self Emplyed           Yes         Single   \n",
       "4       Masters        Unemployed           Yes         Single   \n",
       "\n",
       "  github_copilot_user favourite_dish  \n",
       "0                 Yes        Biryani  \n",
       "1                 Yes        Biryani  \n",
       "2                 Yes           Daal  \n",
       "3                 Yes  Karahi Ghosht  \n",
       "4                  No           Daal  "
      ]
     },
     "execution_count": 23,
     "metadata": {},
     "output_type": "execute_result"
    }
   ],
   "source": [
    "df.head()"
   ]
  },
  {
   "cell_type": "code",
   "execution_count": 29,
   "metadata": {},
   "outputs": [],
   "source": [
    "# to know unique values in each colums\n"
   ]
  },
  {
   "cell_type": "markdown",
   "metadata": {},
   "source": [
    "                       Countplot graph"
   ]
  },
  {
   "cell_type": "code",
   "execution_count": 32,
   "metadata": {},
   "outputs": [
    {
     "data": {
      "text/plain": [
       "<AxesSubplot:xlabel='gender', ylabel='count'>"
      ]
     },
     "execution_count": 32,
     "metadata": {},
     "output_type": "execute_result"
    },
    {
     "data": {
      "image/png": "[encoded data removed]",
      "text/plain": [
       "<Figure size 640x480 with 1 Axes>"
      ]
     },
     "metadata": {},
     "output_type": "display_data"
    }
   ],
   "source": [
    "sns.countplot(x=df['gender'])"
   ]
  },
  {
   "cell_type": "code",
   "execution_count": 33,
   "metadata": {},
   "outputs": [
    {
     "data": {
      "text/plain": [
       "<AxesSubplot:xlabel='employment_status', ylabel='count'>"
      ]
     },
     "execution_count": 33,
     "metadata": {},
     "output_type": "execute_result"
    },
    {
     "data": {
      "image/png": "[encoded data removed]",
      "text/plain": [
       "<Figure size 640x480 with 1 Axes>"
      ]
     },
     "metadata": {},
     "output_type": "display_data"
    }
   ],
   "source": [
    "# check employment_status in the dataset\n",
    "sns.countplot(x=df['employment_status'])"
   ]
  },
  {
   "cell_type": "code",
   "execution_count": 34,
   "metadata": {},
   "outputs": [
    {
     "data": {
      "text/plain": [
       "<AxesSubplot:xlabel='marital_status', ylabel='count'>"
      ]
     },
     "execution_count": 34,
     "metadata": {},
     "output_type": "execute_result"
    },
    {
     "data": {
      "image/png": "[encoded data removed]",
      "text/plain": [
       "<Figure size 640x480 with 1 Axes>"
      ]
     },
     "metadata": {},
     "output_type": "display_data"
    }
   ],
   "source": [
    "# check employment_status in the dataset\n",
    "sns.countplot(x=df['marital_status'])"
   ]
  },
  {
   "cell_type": "code",
   "execution_count": 36,
   "metadata": {},
   "outputs": [
    {
     "data": {
      "text/plain": [
       "<AxesSubplot:xlabel='gender', ylabel='count'>"
      ]
     },
     "execution_count": 36,
     "metadata": {},
     "output_type": "execute_result"
    },
    {
     "data": {
      "image/png": "[encoded data removed]",
      "text/plain": [
       "<Figure size 640x480 with 1 Axes>"
      ]
     },
     "metadata": {},
     "output_type": "display_data"
    }
   ],
   "source": [
    "# check marital_status in the dataset\n",
    "sns.countplot(x=df['gender'] ,  hue =df['marital_status'])"
   ]
  },
  {
   "cell_type": "markdown",
   "metadata": {},
   "source": [
    "## interpret \n",
    "1. there are more married males than females (19=10+9) (71 =28+43)\n",
    "2. mumber of married females are greater than number of  of singles\n",
    "3. on the other hand , number of married males are less than single males\n",
    "4. there ae no females having other martial status \n",
    "\n",
    "Ratio \n",
    "(19=10+9) (71 =28+43)\n",
    "There are 40% married males and 55% married females in our data"
   ]
  },
  {
   "cell_type": "code",
   "execution_count": 38,
   "metadata": {},
   "outputs": [
    {
     "data": {
      "text/plain": [
       "<AxesSubplot:xlabel='gender', ylabel='count'>"
      ]
     },
     "execution_count": 38,
     "metadata": {},
     "output_type": "execute_result"
    },
    {
     "data": {
      "image/png": "[encoded data removed]",
      "text/plain": [
       "<Figure size 640x480 with 1 Axes>"
      ]
     },
     "metadata": {},
     "output_type": "display_data"
    }
   ],
   "source": [
    "# check favourite_dish in the dataset\n",
    "sns.countplot(x=df['gender'] ,  hue =df['favourite_dish'])"
   ]
  },
  {
   "cell_type": "code",
   "execution_count": 39,
   "metadata": {},
   "outputs": [
    {
     "data": {
      "text/plain": [
       "<AxesSubplot:xlabel='gender', ylabel='count'>"
      ]
     },
     "execution_count": 39,
     "metadata": {},
     "output_type": "execute_result"
    },
    {
     "data": {
      "image/png": "[encoded data removed]",
      "text/plain": [
       "<Figure size 640x480 with 1 Axes>"
      ]
     },
     "metadata": {},
     "output_type": "display_data"
    }
   ],
   "source": [
    "# check github user\n",
    "\n",
    "sns.countplot(x=df['gender'] ,  hue =df['github_copilot_user'])"
   ]
  },
  {
   "cell_type": "code",
   "execution_count": 40,
   "metadata": {},
   "outputs": [
    {
     "data": {
      "text/plain": [
       "<bound method DataFrame.info of              timestamp   age        city  weight   height     BMI    salary  \\\n",
       "0  2022-12-11 12:48:13  31.0     Karachi    73.0  165.000  26.800   10000.0   \n",
       "1  2022-12-11 12:48:15  21.0      Turkey    70.0  170.000  24.900    3000.0   \n",
       "2  2022-12-11 12:48:16  41.0  Faisalabad    72.5  156.000  31.200   35000.0   \n",
       "3  2022-12-11 12:48:24  22.0  Rawalpindi    75.0  155.000  32.000   50000.0   \n",
       "4  2022-12-11 12:48:25  26.0      Harbin    75.0  179.000  23.400   35000.0   \n",
       "..                 ...   ...         ...     ...      ...     ...       ...   \n",
       "85 2022-12-11 13:01:14  22.0    Mansehra    70.0  173.000  23.400    5000.0   \n",
       "86 2022-12-11 13:01:54  36.0  Rawalpindi    86.0  165.000  14.300  105000.0   \n",
       "87 2022-12-11 13:03:22  20.0   Islamabad    54.6  162.800  20.600   35000.0   \n",
       "88 2022-12-11 13:04:28  32.0     Karachi    67.0  147.402  24.363    3000.0   \n",
       "89 2022-12-11 13:05:05  55.0      Jhelum    85.0  160.000  33.200  100000.0   \n",
       "\n",
       "    gender qualification employment_status covid_vaccine marital_status  \\\n",
       "0     Male     Bachelors      Self Emplyed           Yes        Married   \n",
       "1     Male  Intermediate        Unemployed           Yes          Other   \n",
       "2     Male     Bachelors          Employed           Yes         Single   \n",
       "3     Male     Bachelors      Self Emplyed           Yes         Single   \n",
       "4     Male       Masters        Unemployed           Yes         Single   \n",
       "..     ...           ...               ...           ...            ...   \n",
       "85    Male     Bachelors        Unemployed           Yes         Single   \n",
       "86    Male       Masters          Employed           Yes        Married   \n",
       "87  Female     Bachelors        Unemployed            No        Married   \n",
       "88  Female     Bachelors        Unemployed            No        Married   \n",
       "89  Female     Bachelors      Self Emplyed           Yes        Married   \n",
       "\n",
       "   github_copilot_user favourite_dish  \n",
       "0                  Yes        Biryani  \n",
       "1                  Yes        Biryani  \n",
       "2                  Yes           Daal  \n",
       "3                  Yes  Karahi Ghosht  \n",
       "4                   No           Daal  \n",
       "..                 ...            ...  \n",
       "85                  No  Karahi Ghosht  \n",
       "86                  No           Daal  \n",
       "87                 Yes  Karahi Ghosht  \n",
       "88                  No        Biryani  \n",
       "89                  No           Saag  \n",
       "\n",
       "[90 rows x 14 columns]>"
      ]
     },
     "execution_count": 40,
     "metadata": {},
     "output_type": "execute_result"
    }
   ],
   "source": [
    "df.info"
   ]
  },
  {
   "cell_type": "code",
   "execution_count": 41,
   "metadata": {},
   "outputs": [
    {
     "data": {
      "text/plain": [
       "<AxesSubplot:xlabel='gender', ylabel='count'>"
      ]
     },
     "execution_count": 41,
     "metadata": {},
     "output_type": "execute_result"
    },
    {
     "data": {
      "image/png": "[encoded data removed]",
      "text/plain": [
       "<Figure size 640x480 with 1 Axes>"
      ]
     },
     "metadata": {},
     "output_type": "display_data"
    }
   ],
   "source": [
    "# check github user\n",
    "\n",
    "sns.countplot(x=df['gender'] ,  hue =df['employment_status'])"
   ]
  },
  {
   "cell_type": "code",
   "execution_count": 48,
   "metadata": {},
   "outputs": [
    {
     "data": {
      "text/plain": [
       "<AxesSubplot:xlabel='qualification', ylabel='count'>"
      ]
     },
     "execution_count": 48,
     "metadata": {},
     "output_type": "execute_result"
    },
    {
     "data": {
      "image/png": "[encoded data removed]",
      "text/plain": [
       "<Figure size 640x480 with 1 Axes>"
      ]
     },
     "metadata": {},
     "output_type": "display_data"
    }
   ],
   "source": [
    "# check  qualification\n",
    "\n",
    "sns.countplot(x=df['qualification'] ,  hue =df['gender'], saturation=0.5,palette='colorblind')"
   ]
  },
  {
   "cell_type": "code",
   "execution_count": 51,
   "metadata": {},
   "outputs": [
    {
     "data": {
      "image/png": "[encoded data removed]",
      "text/plain": [
       "<Figure size 640x480 with 1 Axes>"
      ]
     },
     "metadata": {},
     "output_type": "display_data"
    }
   ],
   "source": [
    "# check  qualification\n",
    "\n",
    "sns.countplot(x=df['qualification'] ,  hue =df['gender'], saturation=1,palette='deep')\n",
    "\n",
    "# saving a plot \n",
    "plt.savefig('count_plot.png')"
   ]
  },
  {
   "cell_type": "markdown",
   "metadata": {},
   "source": []
  }
 ],
 "metadata": {
  "kernelspec": {
   "display_name": "Python 3.10.4 64-bit",
   "language": "python",
   "name": "python3"
  },
  "language_info": {
   "codemirror_mode": {
    "name": "ipython",
    "version": 3
   },
   "file_extension": ".py",
   "mimetype": "text/x-python",
   "name": "python",
   "nbconvert_exporter": "python",
   "pygments_lexer": "ipython3",
   "version": "3.10.4"
  },
  "orig_nbformat": 4,
  "vscode": {
   "interpreter": {
    "hash": "26de051ba29f2982a8de78e945f0abaf191376122a1563185a90213a26c5da77"
   }
  }
 },
 "nbformat": 4,
 "nbformat_minor": 2
}
